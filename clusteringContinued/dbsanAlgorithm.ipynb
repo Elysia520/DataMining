{
 "cells": [
  {
   "cell_type": "code",
   "execution_count": 80,
   "metadata": {
    "collapsed": true
   },
   "outputs": [
    {
     "data": {
      "text/plain": "(17, 2)"
     },
     "execution_count": 80,
     "metadata": {},
     "output_type": "execute_result"
    }
   ],
   "source": [
    "import copy\n",
    "import random\n",
    "\n",
    "import matplotlib.pyplot as plt\n",
    "import numpy as np\n",
    "import pandas as pd\n",
    "\n",
    "data = pd.read_csv('data/dbscan_test.csv', header=None).to_numpy()\n",
    "data.shape"
   ]
  },
  {
   "cell_type": "code",
   "execution_count": 89,
   "outputs": [],
   "source": [
    "class DBSCAN:\n",
    "    def __init__(self, eps, min_p):\n",
    "        self.eps = eps\n",
    "        self.min_p = min_p\n",
    "\n",
    "        self.k = -1\n",
    "        self.neighbor_list = []  # 用来保存每个数据的邻域\n",
    "        self.omega_list = []  # 核心对象集合\n",
    "        self.gama = None  # 初始时将所有点标记为未访问\n",
    "        self.cluster = None  # 聚类\n",
    "\n",
    "        self.data = None\n",
    "\n",
    "    def fit(self, x):\n",
    "        self.data = x\n",
    "        return self.find()\n",
    "\n",
    "    def find(self):\n",
    "        self.gama = set(range(len(self.data)))\n",
    "        self.cluster = np.full(len(self.data), -1).tolist()\n",
    "\n",
    "        for i in range(len(self.data)):\n",
    "            self.neighbor_list.append(self.find_neighbor(i))\n",
    "            # 取倒数第一个进行if，如果大于设定的样本数，即为核心点\n",
    "            if len(self.neighbor_list[-1]) >= self.min_p:\n",
    "                self.omega_list.append(i)  # 将样本加入核心对象集合\n",
    "        omega_list = set(self.omega_list)  # 转化为集合便于操作\n",
    "\n",
    "        while len(omega_list) > 0:\n",
    "            gama_old = copy.deepcopy(self.gama)\n",
    "            j = random.choice(list(omega_list))  # 随机选取一个核心对象\n",
    "            # k计数，从0开始为第一个\n",
    "            self.k = self.k + 1\n",
    "            # 初始化Q\n",
    "            Q = list()\n",
    "            # 记录访问点\n",
    "            Q.append(j)\n",
    "            # 从gama中移除j,剩余未访问点\n",
    "            self.gama.remove(j)\n",
    "\n",
    "            while len(Q) > 0:\n",
    "                # 将第一个点赋值给q,Q队列输出给q,先入先出。\n",
    "                q = Q[0]\n",
    "                Q.remove(q)\n",
    "                if len(self.neighbor_list[q]) >= self.min_p:\n",
    "                    # &按位与运算符：参与运算的两个值,如果两个相应位都为1,则该位的结果为1,否则为0\n",
    "                    delta = self.neighbor_list[q] & self.gama\n",
    "                    delta_list = list(delta)\n",
    "                    for i in range(len(delta)):\n",
    "                        # 在Q中增加访问点\n",
    "                        Q.append(delta_list[i])\n",
    "                        # 从gama中移除访问点,剩余未访问点\n",
    "                        self.gama = self.gama - delta\n",
    "            # 原始未访问点-剩余未访问点=访问点\n",
    "            Ck = gama_old - self.gama\n",
    "            Cklist = list(Ck)\n",
    "            for i in range(len(Ck)):\n",
    "                # 类型为k\n",
    "                self.cluster[Cklist[i]] = self.k\n",
    "            # 剩余核心点\n",
    "            omega_list = omega_list - Ck\n",
    "        return np.array(self.cluster)\n",
    "\n",
    "    def find_neighbor(self, j):\n",
    "        n = list()\n",
    "        for i in range(self.data.shape[0]):\n",
    "            temp = np.sqrt(np.sum(np.square(self.data[j] - self.data[i])))  # 计算欧式距离\n",
    "            # 如果距离小于eps, 在列表末尾添加新的对象\n",
    "            if temp <= self.eps:\n",
    "                n.append(i)\n",
    "        # 返回邻居的索引\n",
    "        return set(n)"
   ],
   "metadata": {
    "collapsed": false
   }
  },
  {
   "cell_type": "code",
   "execution_count": 104,
   "outputs": [
    {
     "name": "stdout",
     "output_type": "stream",
     "text": [
      "[ 1  1  1  1  1  1  0  0  0  0  0 -1  2  2  2 -1  2]\n"
     ]
    }
   ],
   "source": [
    "eclipse = 2.01\n",
    "minPoints = 4\n",
    "\n",
    "dbscan = DBSCAN(eclipse, minPoints)\n",
    "cluster = dbscan.fit(data)\n",
    "print(cluster)"
   ],
   "metadata": {
    "collapsed": false
   }
  },
  {
   "cell_type": "code",
   "execution_count": 103,
   "outputs": [
    {
     "data": {
      "text/plain": "Text(0, 0.5, 'feature2')"
     },
     "execution_count": 103,
     "metadata": {},
     "output_type": "execute_result"
    },
    {
     "data": {
      "text/plain": "<Figure size 640x480 with 1 Axes>",
      "image/png": "[encoded data removed]"
     },
     "metadata": {},
     "output_type": "display_data"
    }
   ],
   "source": [
    "color = ['red', 'blue', 'orange', 'pink', 'green']\n",
    "for i in range(cluster.max() + 1):\n",
    "    plt.scatter(list(data[cluster == i, 0]), list(data[cluster == i, 1]), c=color[i])\n",
    "# 噪声点\n",
    "plt.scatter(list(data[cluster == -1, 0]), list(data[cluster == -1, 1]), c='black')\n",
    "plt.xlabel('feature1')\n",
    "plt.ylabel('feature2')"
   ],
   "metadata": {
    "collapsed": false
   }
  },
  {
   "cell_type": "code",
   "execution_count": null,
   "outputs": [],
   "source": [],
   "metadata": {
    "collapsed": false
   }
  }
 ],
 "metadata": {
  "kernelspec": {
   "display_name": "Python 3",
   "language": "python",
   "name": "python3"
  },
  "language_info": {
   "codemirror_mode": {
    "name": "ipython",
    "version": 2
   },
   "file_extension": ".py",
   "mimetype": "text/x-python",
   "name": "python",
   "nbconvert_exporter": "python",
   "pygments_lexer": "ipython2",
   "version": "2.7.6"
  }
 },
 "nbformat": 4,
 "nbformat_minor": 0
}
